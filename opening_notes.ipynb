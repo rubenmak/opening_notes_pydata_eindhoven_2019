{
 "cells": [
  {
   "cell_type": "code",
   "execution_count": 1,
   "metadata": {
    "slideshow": {
     "slide_type": "skip"
    }
   },
   "outputs": [
    {
     "name": "stdout",
     "output_type": "stream",
     "text": [
      "Requirement already satisfied: numpy in /home/rubenmak/PycharmProjects/pydata_eindhoven_2019/venv/differential_privacy/lib/python3.6/site-packages\n",
      "Requirement already satisfied: matplotlib in /home/rubenmak/PycharmProjects/pydata_eindhoven_2019/venv/differential_privacy/lib/python3.6/site-packages\n",
      "Requirement already satisfied: kiwisolver>=1.0.1 in /home/rubenmak/PycharmProjects/pydata_eindhoven_2019/venv/differential_privacy/lib/python3.6/site-packages (from matplotlib)\n",
      "Requirement already satisfied: cycler>=0.10 in /home/rubenmak/PycharmProjects/pydata_eindhoven_2019/venv/differential_privacy/lib/python3.6/site-packages (from matplotlib)\n",
      "Requirement already satisfied: numpy>=1.11 in /home/rubenmak/PycharmProjects/pydata_eindhoven_2019/venv/differential_privacy/lib/python3.6/site-packages (from matplotlib)\n",
      "Requirement already satisfied: python-dateutil>=2.1 in /home/rubenmak/PycharmProjects/pydata_eindhoven_2019/venv/differential_privacy/lib/python3.6/site-packages (from matplotlib)\n",
      "Requirement already satisfied: pyparsing!=2.0.4,!=2.1.2,!=2.1.6,>=2.0.1 in /home/rubenmak/PycharmProjects/pydata_eindhoven_2019/venv/differential_privacy/lib/python3.6/site-packages (from matplotlib)\n",
      "Requirement already satisfied: setuptools in /home/rubenmak/PycharmProjects/pydata_eindhoven_2019/venv/differential_privacy/lib/python3.6/site-packages (from kiwisolver>=1.0.1->matplotlib)\n",
      "Requirement already satisfied: six in /home/rubenmak/PycharmProjects/pydata_eindhoven_2019/venv/differential_privacy/lib/python3.6/site-packages (from cycler>=0.10->matplotlib)\n",
      "Requirement already satisfied: pandas in /home/rubenmak/PycharmProjects/pydata_eindhoven_2019/venv/differential_privacy/lib/python3.6/site-packages\n",
      "Requirement already satisfied: python-dateutil>=2.6.1 in /home/rubenmak/PycharmProjects/pydata_eindhoven_2019/venv/differential_privacy/lib/python3.6/site-packages (from pandas)\n",
      "Requirement already satisfied: numpy>=1.13.3 in /home/rubenmak/PycharmProjects/pydata_eindhoven_2019/venv/differential_privacy/lib/python3.6/site-packages (from pandas)\n",
      "Requirement already satisfied: pytz>=2017.2 in /home/rubenmak/PycharmProjects/pydata_eindhoven_2019/venv/differential_privacy/lib/python3.6/site-packages (from pandas)\n",
      "Requirement already satisfied: six>=1.5 in /home/rubenmak/PycharmProjects/pydata_eindhoven_2019/venv/differential_privacy/lib/python3.6/site-packages (from python-dateutil>=2.6.1->pandas)\n",
      "Requirement already satisfied: scipy in /home/rubenmak/PycharmProjects/pydata_eindhoven_2019/venv/differential_privacy/lib/python3.6/site-packages\n",
      "Requirement already satisfied: numpy>=1.13.3 in /home/rubenmak/PycharmProjects/pydata_eindhoven_2019/venv/differential_privacy/lib/python3.6/site-packages (from scipy)\n",
      "Requirement already satisfied: seaborn in /home/rubenmak/PycharmProjects/pydata_eindhoven_2019/venv/differential_privacy/lib/python3.6/site-packages\n",
      "Requirement already satisfied: matplotlib>=1.4.3 in /home/rubenmak/PycharmProjects/pydata_eindhoven_2019/venv/differential_privacy/lib/python3.6/site-packages (from seaborn)\n",
      "Requirement already satisfied: pandas>=0.15.2 in /home/rubenmak/PycharmProjects/pydata_eindhoven_2019/venv/differential_privacy/lib/python3.6/site-packages (from seaborn)\n",
      "Requirement already satisfied: numpy>=1.9.3 in /home/rubenmak/PycharmProjects/pydata_eindhoven_2019/venv/differential_privacy/lib/python3.6/site-packages (from seaborn)\n",
      "Requirement already satisfied: scipy>=0.14.0 in /home/rubenmak/PycharmProjects/pydata_eindhoven_2019/venv/differential_privacy/lib/python3.6/site-packages (from seaborn)\n",
      "Requirement already satisfied: pyparsing!=2.0.4,!=2.1.2,!=2.1.6,>=2.0.1 in /home/rubenmak/PycharmProjects/pydata_eindhoven_2019/venv/differential_privacy/lib/python3.6/site-packages (from matplotlib>=1.4.3->seaborn)\n",
      "Requirement already satisfied: cycler>=0.10 in /home/rubenmak/PycharmProjects/pydata_eindhoven_2019/venv/differential_privacy/lib/python3.6/site-packages (from matplotlib>=1.4.3->seaborn)\n",
      "Requirement already satisfied: python-dateutil>=2.1 in /home/rubenmak/PycharmProjects/pydata_eindhoven_2019/venv/differential_privacy/lib/python3.6/site-packages (from matplotlib>=1.4.3->seaborn)\n",
      "Requirement already satisfied: kiwisolver>=1.0.1 in /home/rubenmak/PycharmProjects/pydata_eindhoven_2019/venv/differential_privacy/lib/python3.6/site-packages (from matplotlib>=1.4.3->seaborn)\n",
      "Requirement already satisfied: pytz>=2017.2 in /home/rubenmak/PycharmProjects/pydata_eindhoven_2019/venv/differential_privacy/lib/python3.6/site-packages (from pandas>=0.15.2->seaborn)\n",
      "Requirement already satisfied: six in /home/rubenmak/PycharmProjects/pydata_eindhoven_2019/venv/differential_privacy/lib/python3.6/site-packages (from cycler>=0.10->matplotlib>=1.4.3->seaborn)\n",
      "Requirement already satisfied: setuptools in /home/rubenmak/PycharmProjects/pydata_eindhoven_2019/venv/differential_privacy/lib/python3.6/site-packages (from kiwisolver>=1.0.1->matplotlib>=1.4.3->seaborn)\n",
      "Requirement already satisfied: networkx in /home/rubenmak/PycharmProjects/pydata_eindhoven_2019/venv/differential_privacy/lib/python3.6/site-packages\n",
      "Requirement already satisfied: decorator>=4.3.0 in /home/rubenmak/PycharmProjects/pydata_eindhoven_2019/venv/differential_privacy/lib/python3.6/site-packages (from networkx)\n",
      "Requirement already satisfied: graphviz in /home/rubenmak/PycharmProjects/pydata_eindhoven_2019/venv/differential_privacy/lib/python3.6/site-packages\n",
      "Requirement already satisfied: pydot in /home/rubenmak/PycharmProjects/pydata_eindhoven_2019/venv/differential_privacy/lib/python3.6/site-packages\n",
      "Requirement already satisfied: pyparsing>=2.1.4 in /home/rubenmak/PycharmProjects/pydata_eindhoven_2019/venv/differential_privacy/lib/python3.6/site-packages (from pydot)\n"
     ]
    }
   ],
   "source": [
    "import sys\n",
    "!{sys.executable} -m pip install numpy\n",
    "!{sys.executable} -m pip install matplotlib\n",
    "!{sys.executable} -m pip install pandas\n",
    "!{sys.executable} -m pip install scipy\n",
    "!{sys.executable} -m pip install seaborn\n",
    "!{sys.executable} -m pip install networkx\n",
    "!{sys.executable} -m pip install graphviz\n",
    "!{sys.executable} -m pip install pydot"
   ]
  },
  {
   "cell_type": "code",
   "execution_count": 2,
   "metadata": {
    "slideshow": {
     "slide_type": "skip"
    }
   },
   "outputs": [],
   "source": [
    "from IPython.display import Latex, Image\n",
    "import numpy as np\n",
    "import pandas as pd\n",
    "import matplotlib.pyplot as plt\n",
    "from scipy.stats import bernoulli, norm, binom\n",
    "import seaborn as sns\n",
    "import networkx as nx\n",
    "import graphviz\n",
    "import os\n",
    "import urllib"
   ]
  },
  {
   "cell_type": "markdown",
   "metadata": {
    "slideshow": {
     "slide_type": "slide"
    }
   },
   "source": [
    "<p class=\"gap2\">\n",
    "<h1 style=\"font-weight: bold; color: #ed9041\">Welcome to PyData Eindhoven 2019</h1>\n",
    "\n",
    "<h2 style=\"color: #667b83\">Opening Notes</h2>\n",
    "\n",
    "\n",
    "<p class=\"gap05\">  </p>\n",
    "<h3 style=\"color: #459db9\">Ekhtiar Syed and Ruben Mak <br>\n",
    "Co-chairs PyData Eindhoven</h3>\n",
    "<img src=\"images/pydata_eindhoven.jpeg\">\n",
    "</p>"
   ]
  },
  {
   "cell_type": "markdown",
   "metadata": {
    "slideshow": {
     "slide_type": "slide"
    }
   },
   "source": [
    "<p>\n",
    "<img src=\"images/NumFocus_LRG.png\">\n",
    "</p>"
   ]
  },
  {
   "cell_type": "markdown",
   "metadata": {
    "slideshow": {
     "slide_type": "slide"
    }
   },
   "source": [
    "<p>\n",
    "<img src=\"images/numfocus_sponsored_projects.jpg\" >\n",
    "</p>"
   ]
  },
  {
   "cell_type": "markdown",
   "metadata": {
    "slideshow": {
     "slide_type": "slide"
    }
   },
   "source": [
    "<p>\n",
    "<h1 style=\"font-weight: bold; color: #ed9041\">PyData Eindhoven 2019 Sponsors</h1>\n",
    "\n",
    "<img src=\"images/pydata_eindhoven_2019_sponsors.png\">\n",
    "</p>"
   ]
  },
  {
   "cell_type": "markdown",
   "metadata": {
    "slideshow": {
     "slide_type": "slide"
    }
   },
   "source": [
    "<p>\n",
    "<h1 style=\"font-weight: bold; color: #ed9041\">Sold out two weeks in advance!</h1>\n",
    "</p>"
   ]
  },
  {
   "cell_type": "markdown",
   "metadata": {
    "slideshow": {
     "slide_type": "slide"
    }
   },
   "source": [
    "<p>\n",
    "<h1 style=\"font-weight: bold; color: #ed9041\">78 submissions for talks and tutorials</h1>\n",
    "</p>"
   ]
  },
  {
   "cell_type": "markdown",
   "metadata": {
    "slideshow": {
     "slide_type": "fragment"
    }
   },
   "source": [
    "<p>\n",
    "<h1 style=\"font-weight: bold; color: #459db9\">6 women</h1>\n",
    "</p>"
   ]
  },
  {
   "cell_type": "markdown",
   "metadata": {
    "slideshow": {
     "slide_type": "slide"
    }
   },
   "source": [
    "<p>\n",
    "<img src=\"images/Numfocus_code_of_conduct.png\">\n",
    "</p>"
   ]
  },
  {
   "cell_type": "markdown",
   "metadata": {
    "slideshow": {
     "slide_type": "slide"
    }
   },
   "source": [
    "# God does not play dice\n",
    "<p>\n",
    "<img src=\"images/einstein.jpg\" >\n",
    "</p>"
   ]
  },
  {
   "cell_type": "markdown",
   "metadata": {
    "slideshow": {
     "slide_type": "slide"
    }
   },
   "source": [
    "<p>\n",
    "<h1 style=\"font-weight: bold; color: #ed9041\">#pydataeindhoven</h1>\n",
    "</p>"
   ]
  },
  {
   "cell_type": "code",
   "execution_count": 3,
   "metadata": {
    "slideshow": {
     "slide_type": "skip"
    }
   },
   "outputs": [
    {
     "name": "stdout",
     "output_type": "stream",
     "text": [
      "[NbConvertApp] Converting notebook opening_notes.ipynb to slides\n",
      "[NbConvertApp] Writing 271974 bytes to opening_notes.slides.html\n",
      "[NbConvertApp] Redirecting reveal.js requests to https://cdnjs.cloudflare.com/ajax/libs/reveal.js/3.5.0\n",
      "Serving your slides at http://127.0.0.1:8000/opening_notes.slides.html\n",
      "Use Control-C to stop this server\n",
      "Opening in existing browser session.\n",
      "WARNING:tornado.access:404 GET /custom.css (127.0.0.1) 0.52ms\n",
      "WARNING:tornado.access:404 GET /custom.css (127.0.0.1) 0.47ms\n",
      "^C\n",
      "\n",
      "Interrupted\n"
     ]
    }
   ],
   "source": [
    "!jupyter nbconvert opening_notes.ipynb --to slides --post serve"
   ]
  }
 ],
 "metadata": {
  "celltoolbar": "Slideshow",
  "kernelspec": {
   "display_name": "differential_privacy",
   "language": "python",
   "name": "differential_privacy"
  },
  "language_info": {
   "codemirror_mode": {
    "name": "ipython",
    "version": 3
   },
   "file_extension": ".py",
   "mimetype": "text/x-python",
   "name": "python",
   "nbconvert_exporter": "python",
   "pygments_lexer": "ipython3",
   "version": "3.6.8"
  }
 },
 "nbformat": 4,
 "nbformat_minor": 2
}
